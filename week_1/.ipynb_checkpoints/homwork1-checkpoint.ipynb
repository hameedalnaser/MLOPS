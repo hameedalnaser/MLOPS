{
 "cells": [
  {
   "cell_type": "code",
   "execution_count": 1,
   "id": "ca7c9329-5eb0-44f0-a92c-037afa22ce03",
   "metadata": {},
   "outputs": [],
   "source": [
    "import pandas as pd"
   ]
  },
  {
   "cell_type": "code",
   "execution_count": 3,
   "id": "3165c574-704b-468d-b15f-b92b394a1715",
   "metadata": {},
   "outputs": [],
   "source": [
    "import seaborn as sns\n",
    "import matplotlib.pyplot as plt"
   ]
  },
  {
   "cell_type": "code",
   "execution_count": 6,
   "id": "f098ff25-740f-4c21-a12f-d92bddab2839",
   "metadata": {},
   "outputs": [],
   "source": [
    "from sklearn.feature_extraction import DictVectorizer\n",
    "\n",
    "from sklearn.linear_model import LinearRegression\n",
    "from sklearn.linear_model import Lasso\n",
    "from sklearn.linear_model import Ridge\n",
    "\n",
    "from sklearn.metrics import mean_squared_error"
   ]
  },
  {
   "cell_type": "code",
   "execution_count": 32,
   "id": "654d548e-abc6-4810-8791-2122c89a8d0f",
   "metadata": {},
   "outputs": [
    {
     "data": {
      "text/plain": [
       "(3066766, 19)"
      ]
     },
     "execution_count": 32,
     "metadata": {},
     "output_type": "execute_result"
    }
   ],
   "source": [
    "# Q1 count of columns\n",
    "df_train = pd.read_parquet('./data/yellow_tripdata_2023-01.parquet')\n",
    "\n",
    "\n",
    "df_train.shape"
   ]
  },
  {
   "cell_type": "code",
   "execution_count": 34,
   "id": "b15e4437-01d4-4c60-b981-43b9d3b80e24",
   "metadata": {},
   "outputs": [
    {
     "data": {
      "text/plain": [
       "np.float64(42.59435124195458)"
      ]
     },
     "execution_count": 34,
     "metadata": {},
     "output_type": "execute_result"
    }
   ],
   "source": [
    "# Q2. Computing duration\n",
    "df_train['duration'] = df_train['tpep_dropoff_datetime'] - df_train['tpep_pickup_datetime']\n",
    "df_train['duration'] = df_train.duration.apply(lambda td: td.total_seconds()/60)\n",
    "df_train['duration'].std() # 42.59"
   ]
  },
  {
   "cell_type": "code",
   "execution_count": 38,
   "id": "5e524aef-c1de-4ce6-b87b-22dcadc3936f",
   "metadata": {},
   "outputs": [
    {
     "name": "stdout",
     "output_type": "stream",
     "text": [
      "Fraction of records left after removing outliers: 0.9812\n"
     ]
    }
   ],
   "source": [
    "# Q3. Dropping outliers\n",
    "\n",
    "# Total number of records before filtering\n",
    "total_records = len(df_train)\n",
    "\n",
    "# Filter records with duration between 1 and 60 minutes (inclusive)\n",
    "filtered_df = df_train[(df_train['duration'] >= 1) & (df_train['duration'] <= 60)]\n",
    "\n",
    "# Number of records after filtering\n",
    "filtered_records = len(filtered_df)\n",
    "\n",
    "# Calculate fraction of records left\n",
    "fraction_left = filtered_records / total_records\n",
    "\n",
    "print(f\"Fraction of records left after removing outliers: {fraction_left:.4f}\")\n",
    "# filtered_df.head()\n"
   ]
  },
  {
   "cell_type": "code",
   "execution_count": 40,
   "id": "b817e862-15e8-4e8c-8070-ebf5116bef1e",
   "metadata": {},
   "outputs": [
    {
     "name": "stderr",
     "output_type": "stream",
     "text": [
      "/var/folders/nt/c007l6_s6xjgg3s2fzgqgfy40000gn/T/ipykernel_15079/2208270426.py:4: SettingWithCopyWarning: \n",
      "A value is trying to be set on a copy of a slice from a DataFrame.\n",
      "Try using .loc[row_indexer,col_indexer] = value instead\n",
      "\n",
      "See the caveats in the documentation: https://pandas.pydata.org/pandas-docs/stable/user_guide/indexing.html#returning-a-view-versus-a-copy\n",
      "  filtered_df['PULocationID'] = filtered_df['PULocationID'].astype(str)\n",
      "/var/folders/nt/c007l6_s6xjgg3s2fzgqgfy40000gn/T/ipykernel_15079/2208270426.py:5: SettingWithCopyWarning: \n",
      "A value is trying to be set on a copy of a slice from a DataFrame.\n",
      "Try using .loc[row_indexer,col_indexer] = value instead\n",
      "\n",
      "See the caveats in the documentation: https://pandas.pydata.org/pandas-docs/stable/user_guide/indexing.html#returning-a-view-versus-a-copy\n",
      "  filtered_df['DOLocationID'] = filtered_df['DOLocationID'].astype(str)\n"
     ]
    },
    {
     "data": {
      "text/plain": [
       "<Compressed Sparse Row sparse matrix of dtype 'float64'\n",
       "\twith 6018346 stored elements and shape (3009173, 515)>"
      ]
     },
     "execution_count": 40,
     "metadata": {},
     "output_type": "execute_result"
    }
   ],
   "source": [
    "# Q4. One-hot encoding\n",
    "\n",
    "# Convert IDs to strings\n",
    "filtered_df['PULocationID'] = filtered_df['PULocationID'].astype(str)\n",
    "filtered_df['DOLocationID'] = filtered_df['DOLocationID'].astype(str)\n",
    "\n",
    "# Keep only relevant columns\n",
    "df_subset = filtered_df[['PULocationID', 'DOLocationID']]\n",
    "\n",
    "dv = DictVectorizer()\n",
    "train_dicts = df_subset.to_dict(orient='records')\n",
    "X_train = dv.fit_transform(train_dicts) \n",
    "X_train # 525\n"
   ]
  },
  {
   "cell_type": "code",
   "execution_count": 48,
   "id": "13e0e718-7ba6-49b5-ac24-35b54b9b02e8",
   "metadata": {},
   "outputs": [
    {
     "name": "stdout",
     "output_type": "stream",
     "text": [
      "7.649262183753913\n"
     ]
    }
   ],
   "source": [
    "# Q5. Training a model\n",
    "target = 'duration'\n",
    "y_train = filtered_df[target].values\n",
    "# print(y_train)\n",
    "# print(X_train)\n",
    "import numpy as np\n",
    "\n",
    "lr = LinearRegression()\n",
    "lr.fit(X_train, y_train)\n",
    "y_pred = lr.predict(X_train)\n",
    "\n",
    "# mean_squared_error(y_train, y_pred) # 1763.70\n",
    "rmse = np.sqrt(mean_squared_error(y_train, y_pred))\n",
    "print(rmse)"
   ]
  },
  {
   "cell_type": "code",
   "execution_count": 50,
   "id": "234c1598-95f1-454b-9ad4-e3b106c4a037",
   "metadata": {},
   "outputs": [
    {
     "name": "stderr",
     "output_type": "stream",
     "text": [
      "/var/folders/nt/c007l6_s6xjgg3s2fzgqgfy40000gn/T/ipykernel_15079/2056162970.py:12: SettingWithCopyWarning: \n",
      "A value is trying to be set on a copy of a slice from a DataFrame.\n",
      "Try using .loc[row_indexer,col_indexer] = value instead\n",
      "\n",
      "See the caveats in the documentation: https://pandas.pydata.org/pandas-docs/stable/user_guide/indexing.html#returning-a-view-versus-a-copy\n",
      "  filtered_df_feb['PULocationID'] = filtered_df_feb['PULocationID'].astype(str)\n",
      "/var/folders/nt/c007l6_s6xjgg3s2fzgqgfy40000gn/T/ipykernel_15079/2056162970.py:13: SettingWithCopyWarning: \n",
      "A value is trying to be set on a copy of a slice from a DataFrame.\n",
      "Try using .loc[row_indexer,col_indexer] = value instead\n",
      "\n",
      "See the caveats in the documentation: https://pandas.pydata.org/pandas-docs/stable/user_guide/indexing.html#returning-a-view-versus-a-copy\n",
      "  filtered_df_feb['DOLocationID'] = filtered_df_feb['DOLocationID'].astype(str)\n"
     ]
    },
    {
     "name": "stdout",
     "output_type": "stream",
     "text": [
      "7.778948575332285\n"
     ]
    }
   ],
   "source": [
    "# Q6. Evaluating the model\n",
    "\n",
    "df_feb = pd.read_parquet('./data/yellow_tripdata_2023-02.parquet')\n",
    "\n",
    "df_feb['duration'] = df_feb['tpep_dropoff_datetime'] - df_feb['tpep_pickup_datetime']\n",
    "df_feb['duration'] = df_feb.duration.apply(lambda td: td.total_seconds()/60)\n",
    "df_feb['duration'].std() # 42.59\n",
    "\n",
    "filtered_df_feb = df_feb[(df_feb['duration'] >= 1) & (df_feb['duration'] <= 60)]\n",
    "\n",
    "# Convert IDs to strings\n",
    "filtered_df_feb['PULocationID'] = filtered_df_feb['PULocationID'].astype(str)\n",
    "filtered_df_feb['DOLocationID'] = filtered_df_feb['DOLocationID'].astype(str)\n",
    "\n",
    "# Keep only relevant columns\n",
    "df_subset_feb = filtered_df_feb[['PULocationID', 'DOLocationID']]\n",
    "\n",
    "dv = DictVectorizer()\n",
    "train_dicts = df_subset_feb.to_dict(orient='records')\n",
    "X_train_feb = dv.fit_transform(train_dicts) \n",
    "X_train_feb # 525\n",
    "\n",
    "target = 'duration'\n",
    "y_train_feb = filtered_df_feb[target].values\n",
    "\n",
    "lr_feb = LinearRegression()\n",
    "lr_feb.fit(X_train_feb, y_train_feb)\n",
    "y_pred_feb = lr_feb.predict(X_train_feb)\n",
    "\n",
    "# mean_squared_error(y_train, y_pred) # 1763.70\n",
    "rmse_feb = np.sqrt(mean_squared_error(y_train_feb, y_pred_feb))\n",
    "print(rmse_feb)"
   ]
  },
  {
   "cell_type": "code",
   "execution_count": null,
   "id": "fe3d7ed2-b2ec-4ae1-915b-31db72dfcc8b",
   "metadata": {},
   "outputs": [],
   "source": []
  }
 ],
 "metadata": {
  "kernelspec": {
   "display_name": "Python 3 (ipykernel)",
   "language": "python",
   "name": "python3"
  },
  "language_info": {
   "codemirror_mode": {
    "name": "ipython",
    "version": 3
   },
   "file_extension": ".py",
   "mimetype": "text/x-python",
   "name": "python",
   "nbconvert_exporter": "python",
   "pygments_lexer": "ipython3",
   "version": "3.12.7"
  }
 },
 "nbformat": 4,
 "nbformat_minor": 5
}
