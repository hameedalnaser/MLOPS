{
 "cells": [
  {
   "cell_type": "code",
   "execution_count": 2,
   "id": "ca7c9329-5eb0-44f0-a92c-037afa22ce03",
   "metadata": {},
   "outputs": [],
   "source": [
    "import pandas as pd"
   ]
  },
  {
   "cell_type": "code",
   "execution_count": 4,
   "id": "1178233c-fd77-4177-b106-f637afc7dfce",
   "metadata": {},
   "outputs": [
    {
     "data": {
      "text/plain": [
       "'2.2.2'"
      ]
     },
     "execution_count": 4,
     "metadata": {},
     "output_type": "execute_result"
    }
   ],
   "source": [
    "pd.__version__"
   ]
  },
  {
   "cell_type": "code",
   "execution_count": 6,
   "id": "3165c574-704b-468d-b15f-b92b394a1715",
   "metadata": {},
   "outputs": [],
   "source": [
    " # df = pd.read_parquest("
   ]
  },
  {
   "cell_type": "code",
   "execution_count": null,
   "id": "5c56d14d-5bea-4e2c-8efb-7c069a6aeb07",
   "metadata": {},
   "outputs": [],
   "source": []
  },
  {
   "cell_type": "code",
   "execution_count": null,
   "id": "f804d5bc-8a9c-43c9-a774-994a9302eb1a",
   "metadata": {},
   "outputs": [],
   "source": []
  }
 ],
 "metadata": {
  "kernelspec": {
   "display_name": "Python [conda env:base] *",
   "language": "python",
   "name": "conda-base-py"
  },
  "language_info": {
   "codemirror_mode": {
    "name": "ipython",
    "version": 3
   },
   "file_extension": ".py",
   "mimetype": "text/x-python",
   "name": "python",
   "nbconvert_exporter": "python",
   "pygments_lexer": "ipython3",
   "version": "3.12.7"
  }
 },
 "nbformat": 4,
 "nbformat_minor": 5
}
